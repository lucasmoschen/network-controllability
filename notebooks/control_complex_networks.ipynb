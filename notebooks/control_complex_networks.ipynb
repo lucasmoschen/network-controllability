{
 "cells": [
  {
   "cell_type": "markdown",
   "metadata": {},
   "source": [
    "# Controllability of complex networks\n",
    "\n",
    "Paper by Yang-Yu Liu, Jean-Jacques Slotine & Albert-László Barabási\n",
    "\n",
    "### Lucas Machado Moschen"
   ]
  },
  {
   "cell_type": "code",
   "execution_count": 2,
   "metadata": {},
   "outputs": [],
   "source": [
    "import numpy as np\n",
    "import networkx as nx \n",
    "import matplotlib.pyplot as plt"
   ]
  },
  {
   "cell_type": "markdown",
   "metadata": {},
   "source": [
    "The ultimate understanding os the natural and technological system can be observed when we can control them, that is, with suitable choice of the inputs we can drive the system from a initial point to a desirable in a finite time. This article treats to study tools of controllability of complex directed networks. Some analytical tools are developed in special as I will present in this notebook. We know that real systems are generally driven by nonlinear processes. However theses systems are structurally similar to linear systems. \n",
    "$$\n",
    "\\frac{dx(t)}{dt} = Ax(t) + Bu(t),\n",
    "$$\n",
    "where $x(t) \\in \\mathbb{R}^n$ indicates the state of the $n$ nodes at time $t$ and $u(t) \\in \\mathbb{R}^m$ is the input vector that controls the system. Consider the graph $G(A,B)$ with the nodes being the state variables and the iinput variables. If the state $x_j$ points to $x_i$, we denote $j \\to i$. \n",
    "\n",
    "$A := (a_{ij})_{n \\times n}$, such that $a_{ij} = \\begin{cases} 0, &\\text{if }j \\not \\rightarrow i \\\\ \n",
    "> 0, &\\text{if }j \\rightarrow i \\text{ is excitatory} \\\\ \n",
    "< 0, &\\text{if }j \\rightarrow i \\text{ is inhibitory}\\end{cases}$\n",
    "\n",
    "$B$ has the same structure as $A$, but each $b_{ij}$ indicates if the control $j$ points to the state $i$. "
   ]
  },
  {
   "cell_type": "markdown",
   "metadata": {},
   "source": [
    "#### First example NetworkX\n",
    "\n",
    "$$\n",
    "A = \\begin{bmatrix}\n",
    "0 & 0 & 0 \\\\\n",
    "a_{21} & 0 & 0 \\\\\n",
    "a_{31} & 0 & 0 \\\\\n",
    "\\end{bmatrix}\n",
    "$$\n",
    "\n",
    "and \n",
    "\n",
    "$$\n",
    "B = \\begin{bmatrix}\n",
    "b_{11} \\\\\n",
    "0 \\\\\n",
    "0 \\\\\n",
    "\\end{bmatrix}\n",
    "$$"
   ]
  },
  {
   "cell_type": "code",
   "execution_count": 3,
   "metadata": {},
   "outputs": [],
   "source": [
    "G = nx.DiGraph()\n",
    "G.add_nodes_from([\n",
    "    ('x1', {\"type\": \"state\"}),\n",
    "    ('x2', {\"type\": \"state\"}), \n",
    "    ('x3', {\"type\": \"state\"}),\n",
    "    ('u1', {\"type\": \"control\"})\n",
    "])\n",
    "G.add_edges_from([\n",
    "    ('x1', 'x2'),\n",
    "    ('x1', 'x3'),\n",
    "    ('u1', 'x1')\n",
    "])"
   ]
  },
  {
   "cell_type": "code",
   "execution_count": 4,
   "metadata": {},
   "outputs": [
    {
     "data": {
      "image/png": "[encoded data removed]",
      "text/plain": [
       "<Figure size 432x288 with 1 Axes>"
      ]
     },
     "metadata": {},
     "output_type": "display_data"
    }
   ],
   "source": [
    "mapping = {'state': 'blue', 'control': 'red'}\n",
    "colors = [mapping[node[1]['type']] for node in G.nodes.data()]\n",
    "labels = {'x1': r\"$x_1$\", 'x2': r\"$x_2$\", 'x3': r\"$x_3$\", 'u1': r\"$u_1$\"}\n",
    "\n",
    "nc = nx.draw_networkx(G, node_color=colors, labels = labels, font_color = 'black')"
   ]
  },
  {
   "cell_type": "markdown",
   "metadata": {},
   "source": [
    "The set of controllable pairs $(A,B)$ is open and dense in the space of all pairs, that is, if $(A_0, B_0)$ is not controllable, for all $\\epsilon > 0$, there exists $(A,B)$ controllable such that \n",
    "$$||A - A_0|| < \\epsilon \\text{ and } ||B - B_0|| < \\epsilon$$\n",
    "\n",
    "The state nodes connected to the input variables (control variables) are the **controlled nodes**. When controlled node don't share input nodes, we call them **Driver Nodes**.\n",
    "\n",
    "#### Example 2"
   ]
  },
  {
   "cell_type": "code",
   "execution_count": 5,
   "metadata": {},
   "outputs": [],
   "source": [
    "G = nx.DiGraph()\n",
    "states = [('x' + str(i), {\"type\": \"state\"}) for i in range(1,21)]\n",
    "controls = [('u' + str(i), {\"type\": \"control\"}) for i in range(1,4)]\n",
    "G.add_nodes_from(states)\n",
    "G.add_nodes_from(controls)\n",
    "G.add_edges_from([\n",
    "    ('x1', 'x2'),\n",
    "    ('x2', 'x3'),\n",
    "    ('x3', 'x4'),\n",
    "    ('x1', 'x5'),\n",
    "    ('x5', 'x6'),\n",
    "    ('x6', 'x7'),\n",
    "    ('x7', 'x8'),\n",
    "    ('x8', 'x5'),\n",
    "    ('x1', 'x9'),\n",
    "    ('x9', 'x10'),\n",
    "    ('x10', 'x11'),\n",
    "    ('x11', 'x12'),\n",
    "    ('x12', 'x9'),\n",
    "    ('x2', 'x6'),\n",
    "    ('x2', 'x13'),\n",
    "    ('x13', 'x14'),\n",
    "    ('x14', 'x13'),\n",
    "    ('x15', 'x2'),\n",
    "    ('x15', 'x16'),\n",
    "    ('x16', 'x17'),\n",
    "    ('x17', 'x15'),\n",
    "    ('x15', 'x10'),\n",
    "    ('x18', 'x19'),\n",
    "    ('x18', 'x20'),\n",
    "    ('u1', 'x1'), \n",
    "    ('u1', 'x5'), \n",
    "    ('u1', 'x9'),\n",
    "    ('u2', 'x18'), \n",
    "    ('u3', 'x19')\n",
    "])"
   ]
  },
  {
   "cell_type": "code",
   "execution_count": 6,
   "metadata": {},
   "outputs": [
    {
     "ename": "ImportError",
     "evalue": "requires pygraphviz http://pygraphviz.github.io/",
     "output_type": "error",
     "traceback": [
      "\u001b[0;31m---------------------------------------------------------------------------\u001b[0m",
      "\u001b[0;31mModuleNotFoundError\u001b[0m                       Traceback (most recent call last)",
      "\u001b[0;32m~/anaconda3/envs/network/lib/python3.9/site-packages/networkx/drawing/nx_agraph.py\u001b[0m in \u001b[0;36mpygraphviz_layout\u001b[0;34m(G, prog, root, args)\u001b[0m\n\u001b[1;32m    278\u001b[0m     \u001b[0;32mtry\u001b[0m\u001b[0;34m:\u001b[0m\u001b[0;34m\u001b[0m\u001b[0;34m\u001b[0m\u001b[0m\n\u001b[0;32m--> 279\u001b[0;31m         \u001b[0;32mimport\u001b[0m \u001b[0mpygraphviz\u001b[0m\u001b[0;34m\u001b[0m\u001b[0;34m\u001b[0m\u001b[0m\n\u001b[0m\u001b[1;32m    280\u001b[0m     \u001b[0;32mexcept\u001b[0m \u001b[0mImportError\u001b[0m \u001b[0;32mas\u001b[0m \u001b[0me\u001b[0m\u001b[0;34m:\u001b[0m\u001b[0;34m\u001b[0m\u001b[0;34m\u001b[0m\u001b[0m\n",
      "\u001b[0;31mModuleNotFoundError\u001b[0m: No module named 'pygraphviz'",
      "\nThe above exception was the direct cause of the following exception:\n",
      "\u001b[0;31mImportError\u001b[0m                               Traceback (most recent call last)",
      "\u001b[0;32m<ipython-input-6-be0dcdbc8af7>\u001b[0m in \u001b[0;36m<module>\u001b[0;34m\u001b[0m\n\u001b[1;32m      1\u001b[0m \u001b[0mfig\u001b[0m\u001b[0;34m,\u001b[0m \u001b[0max\u001b[0m \u001b[0;34m=\u001b[0m \u001b[0mplt\u001b[0m\u001b[0;34m.\u001b[0m\u001b[0msubplots\u001b[0m\u001b[0;34m(\u001b[0m\u001b[0mfigsize\u001b[0m \u001b[0;34m=\u001b[0m \u001b[0;34m(\u001b[0m\u001b[0;36m10\u001b[0m\u001b[0;34m,\u001b[0m\u001b[0;36m8\u001b[0m\u001b[0;34m)\u001b[0m\u001b[0;34m)\u001b[0m\u001b[0;34m\u001b[0m\u001b[0;34m\u001b[0m\u001b[0m\n\u001b[1;32m      2\u001b[0m \u001b[0;34m\u001b[0m\u001b[0m\n\u001b[0;32m----> 3\u001b[0;31m \u001b[0mpos\u001b[0m \u001b[0;34m=\u001b[0m \u001b[0mnx\u001b[0m\u001b[0;34m.\u001b[0m\u001b[0mnx_agraph\u001b[0m\u001b[0;34m.\u001b[0m\u001b[0mgraphviz_layout\u001b[0m\u001b[0;34m(\u001b[0m\u001b[0mG\u001b[0m\u001b[0;34m,\u001b[0m \u001b[0mprog\u001b[0m\u001b[0;34m=\u001b[0m\u001b[0;34m\"dot\"\u001b[0m\u001b[0;34m)\u001b[0m\u001b[0;34m\u001b[0m\u001b[0;34m\u001b[0m\u001b[0m\n\u001b[0m\u001b[1;32m      4\u001b[0m \u001b[0mmapping\u001b[0m \u001b[0;34m=\u001b[0m \u001b[0;34m{\u001b[0m\u001b[0;34m'state'\u001b[0m\u001b[0;34m:\u001b[0m \u001b[0;34m'blue'\u001b[0m\u001b[0;34m,\u001b[0m \u001b[0;34m'control'\u001b[0m\u001b[0;34m:\u001b[0m \u001b[0;34m'red'\u001b[0m\u001b[0;34m}\u001b[0m\u001b[0;34m\u001b[0m\u001b[0;34m\u001b[0m\u001b[0m\n\u001b[1;32m      5\u001b[0m \u001b[0mcolors\u001b[0m \u001b[0;34m=\u001b[0m \u001b[0;34m[\u001b[0m\u001b[0mmapping\u001b[0m\u001b[0;34m[\u001b[0m\u001b[0mnode\u001b[0m\u001b[0;34m[\u001b[0m\u001b[0;36m1\u001b[0m\u001b[0;34m]\u001b[0m\u001b[0;34m[\u001b[0m\u001b[0;34m'type'\u001b[0m\u001b[0;34m]\u001b[0m\u001b[0;34m]\u001b[0m \u001b[0;32mfor\u001b[0m \u001b[0mnode\u001b[0m \u001b[0;32min\u001b[0m \u001b[0mG\u001b[0m\u001b[0;34m.\u001b[0m\u001b[0mnodes\u001b[0m\u001b[0;34m.\u001b[0m\u001b[0mdata\u001b[0m\u001b[0;34m(\u001b[0m\u001b[0;34m)\u001b[0m\u001b[0;34m]\u001b[0m\u001b[0;34m\u001b[0m\u001b[0;34m\u001b[0m\u001b[0m\n",
      "\u001b[0;32m~/anaconda3/envs/network/lib/python3.9/site-packages/networkx/drawing/nx_agraph.py\u001b[0m in \u001b[0;36mgraphviz_layout\u001b[0;34m(G, prog, root, args)\u001b[0m\n\u001b[1;32m    235\u001b[0m     \u001b[0mThis\u001b[0m \u001b[0;32mis\u001b[0m \u001b[0ma\u001b[0m \u001b[0mwrapper\u001b[0m \u001b[0;32mfor\u001b[0m \u001b[0mpygraphviz_layout\u001b[0m\u001b[0;34m.\u001b[0m\u001b[0;34m\u001b[0m\u001b[0;34m\u001b[0m\u001b[0m\n\u001b[1;32m    236\u001b[0m     \"\"\"\n\u001b[0;32m--> 237\u001b[0;31m     \u001b[0;32mreturn\u001b[0m \u001b[0mpygraphviz_layout\u001b[0m\u001b[0;34m(\u001b[0m\u001b[0mG\u001b[0m\u001b[0;34m,\u001b[0m \u001b[0mprog\u001b[0m\u001b[0;34m=\u001b[0m\u001b[0mprog\u001b[0m\u001b[0;34m,\u001b[0m \u001b[0mroot\u001b[0m\u001b[0;34m=\u001b[0m\u001b[0mroot\u001b[0m\u001b[0;34m,\u001b[0m \u001b[0margs\u001b[0m\u001b[0;34m=\u001b[0m\u001b[0margs\u001b[0m\u001b[0;34m)\u001b[0m\u001b[0;34m\u001b[0m\u001b[0;34m\u001b[0m\u001b[0m\n\u001b[0m\u001b[1;32m    238\u001b[0m \u001b[0;34m\u001b[0m\u001b[0m\n\u001b[1;32m    239\u001b[0m \u001b[0;34m\u001b[0m\u001b[0m\n",
      "\u001b[0;32m~/anaconda3/envs/network/lib/python3.9/site-packages/networkx/drawing/nx_agraph.py\u001b[0m in \u001b[0;36mpygraphviz_layout\u001b[0;34m(G, prog, root, args)\u001b[0m\n\u001b[1;32m    279\u001b[0m         \u001b[0;32mimport\u001b[0m \u001b[0mpygraphviz\u001b[0m\u001b[0;34m\u001b[0m\u001b[0;34m\u001b[0m\u001b[0m\n\u001b[1;32m    280\u001b[0m     \u001b[0;32mexcept\u001b[0m \u001b[0mImportError\u001b[0m \u001b[0;32mas\u001b[0m \u001b[0me\u001b[0m\u001b[0;34m:\u001b[0m\u001b[0;34m\u001b[0m\u001b[0;34m\u001b[0m\u001b[0m\n\u001b[0;32m--> 281\u001b[0;31m         \u001b[0;32mraise\u001b[0m \u001b[0mImportError\u001b[0m\u001b[0;34m(\u001b[0m\u001b[0;34m\"requires pygraphviz \"\u001b[0m \u001b[0;34m\"http://pygraphviz.github.io/\"\u001b[0m\u001b[0;34m)\u001b[0m \u001b[0;32mfrom\u001b[0m \u001b[0me\u001b[0m\u001b[0;34m\u001b[0m\u001b[0;34m\u001b[0m\u001b[0m\n\u001b[0m\u001b[1;32m    282\u001b[0m     \u001b[0;32mif\u001b[0m \u001b[0mroot\u001b[0m \u001b[0;32mis\u001b[0m \u001b[0;32mnot\u001b[0m \u001b[0;32mNone\u001b[0m\u001b[0;34m:\u001b[0m\u001b[0;34m\u001b[0m\u001b[0;34m\u001b[0m\u001b[0m\n\u001b[1;32m    283\u001b[0m         \u001b[0margs\u001b[0m \u001b[0;34m+=\u001b[0m \u001b[0;34mf\"-Groot={root}\"\u001b[0m\u001b[0;34m\u001b[0m\u001b[0;34m\u001b[0m\u001b[0m\n",
      "\u001b[0;31mImportError\u001b[0m: requires pygraphviz http://pygraphviz.github.io/"
     ]
    },
    {
     "data": {
      "image/png": "[encoded data removed]",
      "text/plain": [
       "<Figure size 720x576 with 1 Axes>"
      ]
     },
     "metadata": {
      "needs_background": "light"
     },
     "output_type": "display_data"
    }
   ],
   "source": [
    "fig, ax = plt.subplots(figsize = (10,8))\n",
    "\n",
    "pos = nx.nx_agraph.graphviz_layout(G, prog=\"dot\")\n",
    "mapping = {'state': 'blue', 'control': 'red'}\n",
    "colors = [mapping[node[1]['type']] for node in G.nodes.data()]\n",
    "labels = {n: r\"${}_{}$\".format(n[0],n[1:]) for n in G.nodes()}\n",
    "\n",
    "nc = nx.draw_networkx(G, pos, node_color=colors, \n",
    "                      labels = labels, font_color = 'black', ax = ax)"
   ]
  },
  {
   "cell_type": "markdown",
   "metadata": {},
   "source": [
    "In this example the nodes $x_1, x_5, x_9, x_{18}, x_{19}$ are controlled node and $x_1, x_{18}, x_{19}$ are driver nodes. The system $(A,B)$ are structurally controllable if it's possible to choose the non-zero parameters in A and B such that $(A,B)$ is controllable. To control a system we need to find the minimum number of these driver nodes, which is sufficient to control these system. We denote this set as $N_D$. "
   ]
  },
  {
   "cell_type": "code",
   "execution_count": null,
   "metadata": {},
   "outputs": [],
   "source": []
  }
 ],
 "metadata": {
  "kernelspec": {
   "display_name": "NetworkControl",
   "language": "python",
   "name": "networkcontrol"
  },
  "language_info": {
   "codemirror_mode": {
    "name": "ipython",
    "version": 3
   },
   "file_extension": ".py",
   "mimetype": "text/x-python",
   "name": "python",
   "nbconvert_exporter": "python",
   "pygments_lexer": "ipython3",
   "version": "3.9.1"
  }
 },
 "nbformat": 4,
 "nbformat_minor": 4
}
