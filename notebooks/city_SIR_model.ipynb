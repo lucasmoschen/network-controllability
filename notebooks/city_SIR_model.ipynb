{
 "cells": [
  {
   "cell_type": "markdown",
   "id": "6efc3260",
   "metadata": {},
   "source": [
    "# Multi-city modeling of epidemics using spatial networks\n",
    "Application to 2019-nCov (COVID-19) coronavirus in India\n",
    "\n",
    "By Bhalchandra S. Pujari and Snehal Shekatkar\n",
    "\n",
    "A network of cities, such that each city is subject to a SIR model, and they are coupled through migration rates. \n",
    "They also include delay in the equations given the distance between cities.\n",
    "The outward migration rate is assumed to be proportional to the population size $\\phi_i = s_i + x_i + r_i$.\n",
    "Moreover the an individual in $i$ migrates to any of its neighbours with probability $1/k_i$, where $k_i$ is the number of neighbours from city $i$."
   ]
  },
  {
   "cell_type": "code",
   "execution_count": 1,
   "id": "9aa4eebd-14f6-4d20-90e4-adc3fbb47712",
   "metadata": {},
   "outputs": [],
   "source": [
    "import numpy as np\n",
    "from scipy.integrate import solve_ivp\n",
    "import matplotlib.pyplot as plt\n",
    "import sympy as sp\n",
    "from scipy.sparse.linalg import eigs"
   ]
  },
  {
   "cell_type": "markdown",
   "id": "bd49ee85-88ee-4ddf-b254-84a00e4fd895",
   "metadata": {},
   "source": [
    "Model presentation\n",
    "\n",
    "$$\n",
    "\\begin{align*}\n",
    "\\dot{S_i}(t) &= -\\beta S_i(t) X_i(t) - \\eta_i S_i(t) + \\sum_{j=1}^n \\eta_j\\frac{A_{ij}}{k_j}\\frac{\\phi_j}{\\phi_i}S_j(t - \\delta_{ij}) - u_i(t)S_i(t) \\\\\n",
    "\\dot{X_i}(t) &= \\beta S_i(t) X_i(t) - \\eta_i X_i(t) + \\sum_{j=1}^n \\eta_j\\frac{A_{ij}}{k_j}\\frac{\\phi_j}{\\phi_i}X_j(t - \\delta_{ij}) - \\gamma X_i(t) \\\\\n",
    "\\dot{R_i}(t) &= \\gamma X_i(t) - \\eta_i R_i(t) + \\sum_{j=1}^n \\eta_j\\frac{A_{ij}}{k_j}\\frac{\\phi_j}{\\phi_i}R_j(t - \\delta_{ij}) + u_i(t) S_i(t), \n",
    "\\end{align*}\n",
    "$$\n",
    "\n",
    "such that $\\phi_j$ is the population size of the $j$-th city and $k_j$ is the number of neighbours. We define $A_{ij}$ as the adjacency matrix. Finally $\\delta_{ij}$ is the delay of transition between cities.\n",
    "\n",
    "We can denote \n",
    "\n",
    "$$\n",
    "\\bar{A}_{ij} = A_{ij}\\frac{\\phi_j}{\\phi_i k_j},\n",
    "$$\n",
    "\n",
    "to simplify the notation.\n",
    "\n",
    "An additional assumption is that the population cities remain constant during the span of a typical epidemic, that is, \n",
    "\n",
    "$$\n",
    "\\eta_i \\phi_i = \\sum_{j=1}^n \\eta_j A_{ij}\\frac{\\phi_j}{k_j} \\implies \\eta_i = \\sum_{j=1}^n \\eta_j \\bar{A}_{ij}.\n",
    "$$\n",
    "\n",
    "For the implementation, define \n",
    "\n",
    "$$\n",
    "Y = (S_1, \\dots, S_n, X_1, \\dots, X_n, R_1, \\dots, R_n).\n",
    "$$\n",
    "\n",
    "We further assume that $\\delta_{ij} = 0$."
   ]
  },
  {
   "cell_type": "code",
   "execution_count": 2,
   "id": "b82c58ba-510e-41cc-851c-18b976f5543a",
   "metadata": {},
   "outputs": [],
   "source": [
    "def model_ode(t, y, beta, gamma, eta, A, u, N_cities): \n",
    "    s_dot, x_dot, r_dot = np.zeros(N_cities), np.zeros(N_cities), np.zeros(N_cities)\n",
    "    s, x, r = y[:N_cities], y[N_cities:2*N_cities], y[2*N_cities:]\n",
    "    for i in range(N_cities):\n",
    "        s_dot[i] = -beta * s[i] * x[i] - eta[i] * s[i] + (A[i,:]*eta*s).sum() - u(t)[i] * s[i]\n",
    "        x_dot[i] = beta * s[i] * x[i] - eta[i] * x[i] + (A[i,:]*eta*x).sum() - gamma * x[i]\n",
    "        r_dot[i] = gamma * x[i] + u(t)[i] * s[i] - eta[i] * r[i] + (A[i,:]*eta*r).sum()\n",
    "    return np.hstack([s_dot, x_dot, r_dot])"
   ]
  },
  {
   "cell_type": "markdown",
   "id": "3eac9069-0a30-402b-bdd1-5c2ff2d1a52e",
   "metadata": {},
   "source": [
    "Modelling the city structure: we have a capital, and $n$ cities around.\n",
    "\n",
    "We consider that we have $n-1$ periferic cities with $\\phi_j$ each, and a capital with $\\phi_0$. The matrix will be \n",
    "\n",
    "$$\n",
    "A = \\begin{bmatrix}\n",
    "    0 & 1 & 1 & 1 & \\cdots & 1 \\\\\n",
    "    1 & 0 & 0 & 0 & \\cdots & 0 \\\\\n",
    "    1 & 0 & 0 & 0 & \\cdots & 0 \\\\\n",
    "    1 & 0 & 0 & 0 & \\cdots & 0 \\\\\n",
    "    \\vdots & \\vdots & \\vdots & \\vdots & \\ddots & \\vdots \\\\\n",
    "    1 & 0 & 0 & 0 & \\cdots & 0\n",
    "\\end{bmatrix}\n",
    "$$\n",
    "\n",
    "Then"
   ]
  },
  {
   "cell_type": "code",
   "execution_count": 80,
   "id": "c7de0c9f-51f0-4674-9acc-624dbaf4e3c6",
   "metadata": {},
   "outputs": [],
   "source": [
    "def adjacency_matrix(N_cities):\n",
    "    A = np.zeros((N_cities,N_cities))\n",
    "    A[0,:]=1\n",
    "    A[:,0]=1\n",
    "    A[0,0]=0\n",
    "    return A\n",
    "\n",
    "def create_matrix(N_cities, phi0, phij):\n",
    "    A = adjacency_matrix(N_cities)\n",
    "    for i in range(1,N_cities):\n",
    "        A[0,i] = phij/phi0\n",
    "        A[i,0] = phi0/phij/(N_cities-1)\n",
    "    return A"
   ]
  },
  {
   "cell_type": "markdown",
   "id": "681d587e-71ee-478c-82d4-1aef15c3547c",
   "metadata": {},
   "source": [
    "In this network structure $\\eta_j = A_{j0} \\eta_0$ for $j=1,\\dots,n-1$ and $\\eta_0 = \\sum_{k=1}^{n-1} A_{0k} \\eta_k$. It remains to define $\\eta_0$. "
   ]
  },
  {
   "cell_type": "code",
   "execution_count": 41,
   "id": "843fe884-5263-4d70-9a12-847da6a0154b",
   "metadata": {},
   "outputs": [],
   "source": [
    "N_cities = 10\n",
    "phi0=1e6\n",
    "phij = 1e4\n",
    "A = create_matrix(N_cities=N_cities, phi0=phi0, phij=phij)\n",
    "beta = 0.2\n",
    "gamma = 0.07\n",
    "\n",
    "eta = np.zeros(N_cities)\n",
    "eta[0] = 10\n",
    "eta[1:] = A[1:, 0] * eta[0]"
   ]
  },
  {
   "cell_type": "markdown",
   "id": "68fa8a4d-c0a0-45f8-a9e2-ec91c4252b7c",
   "metadata": {},
   "source": [
    "For the control, we start consideting $u_j = 0$ for every city. "
   ]
  },
  {
   "cell_type": "code",
   "execution_count": 5,
   "id": "5ecac1b0-a961-46ce-9218-d44f6938da00",
   "metadata": {},
   "outputs": [],
   "source": [
    "u = lambda t: np.zeros(N_cities)#np.array([0.9, 0.1, 0, 0 ,0, 0, 0, 0, 0, 0])"
   ]
  },
  {
   "cell_type": "markdown",
   "id": "009ba9b6-4cef-4494-82e6-da4dd7e4e439",
   "metadata": {},
   "source": [
    "Initial conditions: \n",
    "\n",
    "$I_0(0) = 100/\\phi_0, I_j(1) = 0$"
   ]
  },
  {
   "cell_type": "code",
   "execution_count": 6,
   "id": "b886ac6c-c2ed-46ae-a07c-7f6d08c4da0f",
   "metadata": {},
   "outputs": [],
   "source": [
    "y0 = np.zeros(3*N_cities)\n",
    "y0[:N_cities] = 1\n",
    "y0[N_cities] = 100/1e6\n",
    "y0[0] = 1-y0[N_cities]"
   ]
  },
  {
   "cell_type": "code",
   "execution_count": 7,
   "id": "1bd4f1e3-73f7-4df4-9614-ca070e8595bf",
   "metadata": {},
   "outputs": [],
   "source": [
    "t_eval = np.linspace(0, 100, 100)\n",
    "\n",
    "sol = solve_ivp(fun=model_ode,\n",
    "                t_span=(0,100),\n",
    "                y0=y0,\n",
    "                method='RK45',\n",
    "                t_eval=t_eval, \n",
    "                args = (beta, gamma, eta, A, u, N_cities)\n",
    "               )"
   ]
  },
  {
   "cell_type": "code",
   "execution_count": 8,
   "id": "7d893b20-ac23-4771-be94-57d9f86042f9",
   "metadata": {},
   "outputs": [
    {
     "data": {
      "image/png": "[encoded data removed]",
      "text/plain": [
       "<Figure size 432x288 with 1 Axes>"
      ]
     },
     "metadata": {
      "needs_background": "light"
     },
     "output_type": "display_data"
    }
   ],
   "source": [
    "plt.plot(sol.t, sol.y[0], label='S_0')\n",
    "plt.plot(sol.t, sol.y[2], label='S_2')\n",
    "plt.legend()\n",
    "plt.show()"
   ]
  },
  {
   "cell_type": "code",
   "execution_count": 9,
   "id": "8da95b99-5e69-4ec4-adfd-a0f73ae9d702",
   "metadata": {},
   "outputs": [
    {
     "data": {
      "image/png": "[encoded data removed]",
      "text/plain": [
       "<Figure size 432x288 with 1 Axes>"
      ]
     },
     "metadata": {
      "needs_background": "light"
     },
     "output_type": "display_data"
    }
   ],
   "source": [
    "plt.plot(sol.t, sol.y[N_cities], label='I_0')\n",
    "plt.plot(sol.t, sol.y[N_cities+2], label='I_2')\n",
    "plt.legend()\n",
    "plt.show()"
   ]
  },
  {
   "cell_type": "markdown",
   "id": "580daca6",
   "metadata": {},
   "source": [
    "## $R_0$ global \n",
    "\n",
    "Using the definition $R_0 = \\rho(FV^{-1})$ from P van den Driessche.\n",
    "Since $F = \\beta I_n$, we have that \n",
    "$$\n",
    "FV^{-1}x = \\lambda x \\implies V^{-1}x = (\\lambda/\\beta)x \\implies (\\beta/\\lambda)x = Vx\n",
    "$$\n",
    "Therefore, if $\\mu$ is eigenvalue of $V$, we have that $\\lambda = \\beta/\\mu$ is eigenvalue of $R_0$. \n",
    "We want \n",
    "\n",
    "$$\\max |\\lambda| = \\beta \\max |\\mu^{-1}| \\implies R_0 = \\beta/\\min |\\mu|$$"
   ]
  },
  {
   "cell_type": "code",
   "execution_count": 114,
   "id": "d21228d5",
   "metadata": {},
   "outputs": [],
   "source": [
    "# The simplest method\n",
    "def reproductive_number(beta, gamma, eta, A, N_cities):\n",
    "    F = beta * np.eye(N_cities)\n",
    "    V = (A - np.eye(N_cities))@np.diag(eta) - gamma * np.eye(N_cities)\n",
    "    M = F@np.linalg.inv(V)\n",
    "    lambd = eigs(M, k=1, which='LM', return_eigenvectors=False)\n",
    "    return abs(lambd[0])\n",
    "\n",
    "# The summarized method.\n",
    "def reproductive_number2(beta, gamma, eta, A, N_cities):\n",
    "    K = np.diag(np.diag(A@A))\n",
    "    C = (A@np.linalg.inv(K) - np.eye(N_cities))@np.diag(eta)\n",
    "    lambd = max(beta/(abs(np.linalg.eigvals(C) - gamma)))\n",
    "    return lambd"
   ]
  },
  {
   "cell_type": "code",
   "execution_count": 115,
   "id": "e6632758",
   "metadata": {},
   "outputs": [
    {
     "name": "stdout",
     "output_type": "stream",
     "text": [
      "The R0 without migration: 2.857142857142857\n",
      "The R0 with migration, simple implementation: 2.8571428571428408\n",
      "The R0 with migration, simplified implementation: 2.857142857142857\n"
     ]
    }
   ],
   "source": [
    "beta = 0.2\n",
    "gamma = 0.07\n",
    "\n",
    "eta = np.zeros(N_cities)\n",
    "eta[0] = 1.0\n",
    "eta[1:] = A[1:, 0] * eta[0]\n",
    "\n",
    "lambd = reproductive_number(beta, gamma, eta, A, N_cities)\n",
    "lambd2 = reproductive_number2(beta, gamma, eta, adjacency_matrix(N_cities), N_cities)\n",
    "\n",
    "print('The R0 without migration: {}'.format(beta/gamma))\n",
    "print('The R0 with migration, simple implementation: {}'.format(lambd))\n",
    "print('The R0 with migration, simplified implementation: {}'.format(lambd2))"
   ]
  },
  {
   "cell_type": "markdown",
   "id": "bb620b84",
   "metadata": {},
   "source": [
    "The second method is crearly a numerical error. "
   ]
  }
 ],
 "metadata": {
  "kernelspec": {
   "display_name": "network-control",
   "language": "python",
   "name": "network-control"
  },
  "language_info": {
   "codemirror_mode": {
    "name": "ipython",
    "version": 3
   },
   "file_extension": ".py",
   "mimetype": "text/x-python",
   "name": "python",
   "nbconvert_exporter": "python",
   "pygments_lexer": "ipython3",
   "version": "3.9.12"
  }
 },
 "nbformat": 4,
 "nbformat_minor": 5
}
