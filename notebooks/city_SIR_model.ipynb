{
 "cells": [
  {
   "cell_type": "code",
   "execution_count": 2,
   "id": "9aa4eebd-14f6-4d20-90e4-adc3fbb47712",
   "metadata": {},
   "outputs": [],
   "source": [
    "import numpy as np\n",
    "from scipy.integrate import solve_ivp\n",
    "import matplotlib.pyplot as plt\n",
    "import sympy as sp"
   ]
  },
  {
   "cell_type": "markdown",
   "id": "bd49ee85-88ee-4ddf-b254-84a00e4fd895",
   "metadata": {},
   "source": [
    "Model presentation\n",
    "\n",
    "$$\n",
    "\\begin{align*}\n",
    "\\dot{S_j}(t) &= -\\beta S_j(t) I_j(t) - \\eta_j S_j(t) + \\sum_{k \\sim j} \\eta_k\\frac{A_{jk}}{N_k}\\frac{P_k}{P_j}S_k(t - \\delta_{ij}) - u_j(t)S_j(t) \\\\\n",
    "\\dot{I_j}(t) &= \\beta S_j(t) I_j(t) - \\eta_j I_j(t) + \\sum_{k \\sim j} \\eta_k\\frac{A_{jk}}{N_k}\\frac{P_k}{P_j}I_k(t - \\delta_{ij}) - \\gamma I_j(t) \\\\\n",
    "\\dot{R_j}(t) &= \\gamma I_j(t) - \\eta_j R_j(t) + \\sum_{k \\sim j} \\eta_k\\frac{A_{jk}}{N_k}\\frac{P_k}{P_j}R_k(t - \\delta_{ij}) + u_j(t) S_j(t), \n",
    "\\end{align*}\n",
    "$$\n",
    "\n",
    "such that $P_j$ is the population size of the $j$-th city and $N_j$ is the number of neighbours. We define $A_{ij}$ as the adjacency matrix. Finally $\\delta_{ij}$ is the delay of transition between cities.\n",
    "\n",
    "We can denote \n",
    "\n",
    "$$\n",
    "A_{jk} = \\begin{cases}\n",
    "    \\frac{P_k}{N_k P_j} &\\text{if } j \\sim k \\\\\n",
    "    0 &\\text{c.c.}\n",
    "\\end{cases}\n",
    "$$"
   ]
  },
  {
   "cell_type": "code",
   "execution_count": 54,
   "id": "b82c58ba-510e-41cc-851c-18b976f5543a",
   "metadata": {},
   "outputs": [],
   "source": [
    "def model_ode(t, y, beta, gamma, eta, A, u, N_cities): \n",
    "    s_dot = np.zeros(N_cities)\n",
    "    i_dot = np.zeros_like(s_dot)\n",
    "    r_dot = np.zeros_like(i_dot)\n",
    "    for j in range(N_cities):\n",
    "        s_dot[j] = -beta * y[j] * y[j+N_cities] - eta[j] * y[j] + (A[j,:]*eta*y[:N_cities]).sum() - u(t)[j] * y[j]\n",
    "        i_dot[j] = beta * y[j] * y[j+N_cities] - eta[j] * y[j+N_cities] + (A[j,:]*eta*y[N_cities:2*N_cities]).sum() - gamma * y[j+N_cities]\n",
    "        r_dot[j] = gamma * y[j+N_cities] + u(t)[j] * y[j] - eta[j] * y[j+2*N_cities] + (A[j,:]*eta*y[2*N_cities:]).sum()\n",
    "    return np.hstack([s_dot, i_dot, r_dot])"
   ]
  },
  {
   "cell_type": "markdown",
   "id": "3eac9069-0a30-402b-bdd1-5c2ff2d1a52e",
   "metadata": {},
   "source": [
    "Modelling the city structure: we have a capital, and $n$ cities around.\n",
    "\n",
    "We consider that we have $n-1$ periferic cities with $P_j$ each one, and a capital with $P_0$. The matrix will be \n",
    "\n",
    "$$\n",
    "A = \\begin{bmatrix}\n",
    "    0 & 1 & 1 & 1 & \\cdots & 1 \\\\\n",
    "    1 & 0 & 0 & 0 & \\cdots & 0 \\\\\n",
    "    1 & 0 & 0 & 0 & \\cdots & 0 \\\\\n",
    "    1 & 0 & 0 & 0 & \\cdots & 0 \\\\\n",
    "    \\vdots & \\vdots & \\vdots & \\vdots & \\ddots & \\vdots \\\\\n",
    "    1 & 0 & 0 & 0 & \\cdots & 0\n",
    "\\end{bmatrix}\n",
    "$$\n",
    "\n",
    "Then"
   ]
  },
  {
   "cell_type": "code",
   "execution_count": 55,
   "id": "c7de0c9f-51f0-4674-9acc-624dbaf4e3c6",
   "metadata": {},
   "outputs": [],
   "source": [
    "def create_matrix(n, P1, PJ):\n",
    "    A = np.zeros((n,n))\n",
    "    A[0,:]=1\n",
    "    A[:,0]=1\n",
    "    A[0,0]=0\n",
    "    for j in range(1,n):\n",
    "        # Nj = 1\n",
    "        A[0,j] = PJ/P1\n",
    "        A[j,0] = P1/PJ/(n-1)\n",
    "    return A"
   ]
  },
  {
   "cell_type": "markdown",
   "id": "681d587e-71ee-478c-82d4-1aef15c3547c",
   "metadata": {},
   "source": [
    "We are going to set $\\delta_{ij} = 0$ for now. Moreover $\\eta_j = \\sum_{} A_{jk}\\eta_k$. In this network structure $\\eta_j = A_{j0} \\eta_0$ for $j=1,\\dots,n-1$ and $\\eta_0 = \\sum_{k=1}^{n-1} A_{0k} \\eta_k$. It remains to define $\\eta_0$. "
   ]
  },
  {
   "cell_type": "code",
   "execution_count": 56,
   "id": "843fe884-5263-4d70-9a12-847da6a0154b",
   "metadata": {},
   "outputs": [],
   "source": [
    "N_cities = 10\n",
    "A = create_matrix(n=N_cities, P1=1e6, PJ=1e4)\n",
    "beta = 0.7\n",
    "gamma = 0.25\n",
    "\n",
    "eta = np.zeros(N_cities)\n",
    "eta[0] = 0.5\n",
    "eta[1:] = A[1:, 0] * eta[0]"
   ]
  },
  {
   "cell_type": "markdown",
   "id": "68fa8a4d-c0a0-45f8-a9e2-ec91c4252b7c",
   "metadata": {},
   "source": [
    "For the control, we start consideting $u_j = 0$ for every city. "
   ]
  },
  {
   "cell_type": "code",
   "execution_count": 83,
   "id": "5ecac1b0-a961-46ce-9218-d44f6938da00",
   "metadata": {},
   "outputs": [],
   "source": [
    "u = lambda t: np.zeros(N_cities)#np.array([0.9, 0.1, 0, 0 ,0, 0, 0, 0, 0, 0])"
   ]
  },
  {
   "cell_type": "markdown",
   "id": "009ba9b6-4cef-4494-82e6-da4dd7e4e439",
   "metadata": {},
   "source": [
    "Initial conditions: \n",
    "\n",
    "$I_0(0) = 100/P1, I_j(1) = 0$"
   ]
  },
  {
   "cell_type": "code",
   "execution_count": 84,
   "id": "b886ac6c-c2ed-46ae-a07c-7f6d08c4da0f",
   "metadata": {},
   "outputs": [],
   "source": [
    "y0 = np.zeros(3*N_cities)\n",
    "y0[:N_cities] = 1\n",
    "y0[N_cities] = 100/1e6\n",
    "y0[0] = 1-y0[N_cities]"
   ]
  },
  {
   "cell_type": "code",
   "execution_count": 85,
   "id": "1bd4f1e3-73f7-4df4-9614-ca070e8595bf",
   "metadata": {},
   "outputs": [],
   "source": [
    "t_eval = np.linspace(0, 10, 100)\n",
    "\n",
    "sol = solve_ivp(fun=model_ode,\n",
    "                t_span=(0,10),\n",
    "                y0=y0,\n",
    "                method='RK45',\n",
    "                t_eval=t_eval, \n",
    "                args = (beta, gamma, eta, A, u, N_cities)\n",
    "               )"
   ]
  },
  {
   "cell_type": "code",
   "execution_count": 86,
   "id": "7d893b20-ac23-4771-be94-57d9f86042f9",
   "metadata": {},
   "outputs": [
    {
     "data": {
      "image/png": "[encoded data removed]",
      "text/plain": [
       "<Figure size 432x288 with 1 Axes>"
      ]
     },
     "metadata": {
      "needs_background": "light"
     },
     "output_type": "display_data"
    }
   ],
   "source": [
    "plt.plot(sol.t, sol.y[0], label='S_0')\n",
    "plt.plot(sol.t, sol.y[2], label='S_2')\n",
    "plt.legend()\n",
    "plt.show()"
   ]
  },
  {
   "cell_type": "code",
   "execution_count": 87,
   "id": "8da95b99-5e69-4ec4-adfd-a0f73ae9d702",
   "metadata": {},
   "outputs": [
    {
     "data": {
      "image/png": "[encoded data removed]",
      "text/plain": [
       "<Figure size 432x288 with 1 Axes>"
      ]
     },
     "metadata": {
      "needs_background": "light"
     },
     "output_type": "display_data"
    }
   ],
   "source": [
    "plt.plot(sol.t, sol.y[N_cities], label='I_0')\n",
    "plt.plot(sol.t, sol.y[N_cities+2], label='I_2')\n",
    "plt.legend()\n",
    "plt.show()"
   ]
  },
  {
   "cell_type": "markdown",
   "id": "8a3de8c4-a4f7-4637-a7d6-852fb94344a8",
   "metadata": {},
   "source": [
    "## Calculating $R_0$"
   ]
  },
  {
   "cell_type": "markdown",
   "id": "9f05dec5-fca7-45d9-b759-33742687b2f4",
   "metadata": {},
   "source": [
    "$$\n",
    "\\begin{align*}\n",
    "\\dot{S_j}(t) &= -\\beta S_j(t) I_j(t) - \\eta_j S_j(t) + \\sum_{k \\sim j} \\eta_k\\frac{A_{jk}}{N_k}\\frac{P_k}{P_j}S_k(t - \\delta_{ij}) - u_j(t)S_j(t) \\\\\n",
    "\\dot{I_j}(t) &= \\beta S_j(t) I_j(t) - \\eta_j I_j(t) + \\sum_{k \\sim j} \\eta_k\\frac{A_{jk}}{N_k}\\frac{P_k}{P_j}I_k(t - \\delta_{ij}) - \\gamma I_j(t) \\\\\n",
    "\\dot{R_j}(t) &= \\gamma I_j(t) - \\eta_j R_j(t) + \\sum_{k \\sim j} \\eta_k\\frac{A_{jk}}{N_k}\\frac{P_k}{P_j}R_k(t - \\delta_{ij}) + u_j(t) S_j(t), \n",
    "\\end{align*}\n",
    "$$"
   ]
  },
  {
   "cell_type": "code",
   "execution_count": 10,
   "id": "4bcd4420-1402-487f-86dc-6747fafd44b1",
   "metadata": {},
   "outputs": [],
   "source": [
    "s1, s2, s3, i1, i2, i3, r1, r2, r3 = sp.symbols('s_1 s_2 s_3 i_1 i_2 i_3 r_1 r_2 r_3')\n",
    "beta, eta1, eta2, eta3, gamma = sp.symbols('beta eta_1 eta_2 eta_3 gamma')\n",
    "A = sp.MatrixSymbol('A', 3, 3)"
   ]
  },
  {
   "cell_type": "code",
   "execution_count": 19,
   "id": "ec1fb7fb-37e6-421e-855e-22e2bc8d0f17",
   "metadata": {},
   "outputs": [],
   "source": [
    "A = A.subs({A[0,0]: 0})"
   ]
  },
  {
   "cell_type": "code",
   "execution_count": 21,
   "id": "8294f89e-bb28-4b08-a5d7-ccba8524e1f5",
   "metadata": {},
   "outputs": [
    {
     "data": {
      "text/latex": [
       "$\\displaystyle A_{0, 0}$"
      ],
      "text/plain": [
       "A[0, 0]"
      ]
     },
     "execution_count": 21,
     "metadata": {},
     "output_type": "execute_result"
    }
   ],
   "source": [
    "A[0,0]"
   ]
  },
  {
   "cell_type": "code",
   "execution_count": 42,
   "id": "e96b2f50-8287-4a11-a703-54c99de50393",
   "metadata": {},
   "outputs": [],
   "source": [
    "Vc = sp.Matrix([\n",
    "    [-eta1*i1 + A[0,1]*eta2*i2 + A[0,2]*eta3*i3 - gamma*i1],\n",
    "    [-eta2*i2 + A[1,0]*eta1*i1 + A[1,2]*eta3*i3 - gamma*i2],\n",
    "    [-eta3*i3 + A[2,0]*eta1*i1 + A[2,1]*eta2*i2 - gamma*i3]\n",
    "])\n",
    "\n",
    "V = sp.Matrix([[Vc.diff(i1), Vc.diff(i2), Vc.diff(i3)]])"
   ]
  },
  {
   "cell_type": "code",
   "execution_count": 47,
   "id": "4b1beb6d-5b24-48dd-a928-37b1a60c4fb6",
   "metadata": {},
   "outputs": [
    {
     "data": {
      "text/latex": [
       "$\\displaystyle \\left[\\begin{matrix}- \\eta_{1} - \\gamma & \\eta_{2} A_{0, 1} & \\eta_{3} A_{0, 2}\\\\\\eta_{1} A_{1, 0} & - \\eta_{2} - \\gamma & \\eta_{3} A_{1, 2}\\\\\\eta_{1} A_{2, 0} & \\eta_{2} A_{2, 1} & - \\eta_{3} - \\gamma\\end{matrix}\\right]$"
      ],
      "text/plain": [
       "Matrix([\n",
       "[-eta_1 - gamma,  eta_2*A[0, 1],  eta_3*A[0, 2]],\n",
       "[ eta_1*A[1, 0], -eta_2 - gamma,  eta_3*A[1, 2]],\n",
       "[ eta_1*A[2, 0],  eta_2*A[2, 1], -eta_3 - gamma]])"
      ]
     },
     "execution_count": 47,
     "metadata": {},
     "output_type": "execute_result"
    }
   ],
   "source": [
    "V"
   ]
  },
  {
   "cell_type": "code",
   "execution_count": null,
   "id": "a8fd66e0-6fc6-4fa9-b6c9-b668bb707b26",
   "metadata": {},
   "outputs": [],
   "source": []
  }
 ],
 "metadata": {
  "kernelspec": {
   "display_name": "network-control",
   "language": "python",
   "name": "network-control"
  },
  "language_info": {
   "codemirror_mode": {
    "name": "ipython",
    "version": 3
   },
   "file_extension": ".py",
   "mimetype": "text/x-python",
   "name": "python",
   "nbconvert_exporter": "python",
   "pygments_lexer": "ipython3",
   "version": "3.9.12"
  }
 },
 "nbformat": 4,
 "nbformat_minor": 5
}
