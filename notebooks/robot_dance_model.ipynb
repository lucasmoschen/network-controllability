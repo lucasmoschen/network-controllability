{
 "cells": [
  {
   "cell_type": "markdown",
   "id": "48dafbc6",
   "metadata": {},
   "source": [
    "# Robot dance: a city-wise automatic control of Covid-19 mitigation levels\n",
    "\n",
    "Robot dance is an automatic control system that considers a complex network of cities with working mobility between them during the period of an epidemic. \n",
    "It proposes a control framework that suggests the level of protective measures, in order to avoid the collapse of the health system. \n",
    "The model is the following: let a graph with $K$ cities, each one with population $N_i$, and\n",
    "\n",
    "$$\n",
    "S_i + E_i + I_i + R_i = 1, i=1,\\dots,K.\n",
    "$$\n",
    "\n",
    "Let $\\alpha(t)$ be a binary coefficient function with $\\alpha(t) = 1$ in the time spent at the original node and $\\alpha(t) = 0$ during the day. \n",
    "Set $T_{\\mathrm{inc}}$ and $T_{\\mathrm{inf}}$ the incubation and the infection periods. \n",
    "During the night, the system works as a SEIR model, written as\n",
    "\n",
    "$$\n",
    "\\begin{split}\n",
    "\\frac{dS_i}{dt} &= -\\alpha(t)\\left(\\frac{r_i(t)}{T_{\\mathrm{inf}}}S_i I_i\\right) \\\\\n",
    "\\frac{dE_i}{dt} &= \\alpha(t)\\left(\\frac{r_i(t)}{T_{\\mathrm{inf}}}S_i I_i\\right) - \\frac{1}{T_{\\mathrm{inc}}}E_i \\\\\n",
    "\\frac{dI_i}{dt} &= \\frac{1}{T_{\\mathrm{inc}}}E_i - \\frac{1}{T_{\\mathrm{inf}}}I_i \\\\\n",
    "\\frac{dR_i}{dt} &= \\frac{1}{T_{\\mathrm{inf}}}I_i,\n",
    "\\end{split}\n",
    "$$\n",
    "\n",
    "But the cities have commuting, which changes the dynamic of infections.\n",
    "Let $p_{ij}$ represent the percentage of individuals of node $i$ that work at $j$.\n",
    "The orginal model consideres that $p_{ij}(t)$ is a function of the time which decreases linearly with $r_j(t)$. \n",
    "Here we treat it as a constant.\n",
    "During the day, the effective population at $i$ is $P_i^{\\mathrm{eff}} = \\sum_{j=1}^K p_{ji} N_j$."
   ]
  },
  {
   "cell_type": "markdown",
   "id": "384b6924",
   "metadata": {},
   "source": [
    "The number of working people from $i$ that get exposed to infectious individuals from $j$ is \n",
    "\n",
    "$$\n",
    "p_{ij} S_i(t) I_j^{\\mathrm{eff}}(t),\n",
    "$$\n",
    "\n",
    "where the effective infection ratio is \n",
    "\n",
    "$$\n",
    "I_j^{\\mathrm{eff}}(t) = \\frac{1}{P_j^{\\mathrm{eff}}} \\sum_{k=1}^K p_{kj} I_k N_k,\n",
    "$$\n",
    "\n",
    "that represents the number of incoming infected individuals from the other cities to $j$ normalized by the effective population there. "
   ]
  },
  {
   "cell_type": "markdown",
   "id": "cec331d5",
   "metadata": {},
   "source": [
    "The equations are, therefore, \n",
    "\n",
    "$$\n",
    "\\begin{split}\n",
    "\\frac{dS_i}{dt} &= -\\alpha(t)\\left(\\frac{r_i(t)}{T_{\\mathrm{inf}}}S_i I_i\\right) - (1-\\alpha(t)) \\left(\\frac{S_i}{T_{\\mathrm{inf}}} \\sum_{j=1}^K r_j(t) p_{ij} I_j^{\\mathrm{eff}}\\right) \\\\\n",
    "\\frac{dE_i}{dt} &= \\alpha(t)\\left(\\frac{r_i(t)}{T_{\\mathrm{inf}}}S_i I_i\\right) + (1-\\alpha(t)) \\left(\\frac{S_i}{T_{\\mathrm{inf}}} \\sum_{j=1}^K r_j(t) p_{ij} I_j^{\\mathrm{eff}}\\right) - \\frac{1}{T_{\\mathrm{inc}}}E_i \\\\\n",
    "\\frac{dI_i}{dt} &= \\frac{1}{T_{\\mathrm{inc}}}E_i - \\frac{1}{T_{\\mathrm{inf}}}I_i \\\\\n",
    "\\frac{dR_i}{dt} &= \\frac{1}{T_{\\mathrm{inf}}}I_i.\n",
    "\\end{split}\n",
    "$$\n",
    "\n",
    "We can say that $r_i(t) = \\beta_i(t)/\\gamma = \\beta_i(t) T_{\\mathrm{inf}}$.\n",
    "The variable $r_j(t)$ is the control variable that means the reproductive number at time $t$ at city $j$.\n",
    "They minimize a function changing this function. "
   ]
  },
  {
   "cell_type": "code",
   "execution_count": 1,
   "id": "4de7c11c",
   "metadata": {},
   "outputs": [],
   "source": [
    "import numpy as np\n",
    "from scipy.integrate import solve_ivp\n",
    "import matplotlib.pyplot as plt\n",
    "import sympy as sp\n",
    "from scipy.sparse.linalg import eigs"
   ]
  },
  {
   "cell_type": "markdown",
   "id": "d6621e8f",
   "metadata": {},
   "source": [
    "Model code"
   ]
  },
  {
   "cell_type": "code",
   "execution_count": 2,
   "id": "c179edf3",
   "metadata": {},
   "outputs": [],
   "source": [
    "def model_ode(t, y, alpha, beta, tau, gamma, population, p_matrix, population_eff, K):\n",
    "    S, E, I, R = y[:K], y[K:2*K], y[2*K:3*K], y[3*K:]\n",
    "    I_eff = (I * population) @ p_matrix / population_eff\n",
    "    S_dot = -alpha(t) * beta * S * I - (1-alpha(t)) * S * (p_matrix @ (beta * I_eff))\n",
    "    E_dot = -S_dot - tau * E\n",
    "    I_dot = tau * E - gamma * I\n",
    "    R_dot = gamma * I\n",
    "    return np.hstack([S_dot, E_dot, I_dot, R_dot])"
   ]
  },
  {
   "cell_type": "markdown",
   "id": "967c6efd",
   "metadata": {},
   "source": [
    "The parameter of the model"
   ]
  },
  {
   "cell_type": "code",
   "execution_count": 3,
   "id": "07c929df",
   "metadata": {},
   "outputs": [],
   "source": [
    "K = 5\n",
    "population = np.array([1e6, 1e4, 1e4, 1e4, 1e4])\n",
    "p_matrix = np.array([\n",
    "    [1-0.04, 0.01, 0.01, 0.01, 0.01],\n",
    "    [0.4, 0.6, 0, 0, 0],\n",
    "    [0.4, 0, 0.6, 0, 0],\n",
    "    [0.4, 0, 0, 0.6, 0],\n",
    "    [0.4, 0, 0, 0, 0.6]\n",
    "])\n",
    "population_eff = population @ p_matrix \n",
    "\n",
    "alpha = lambda t: 1.0 if t % 24 < 6 or t % 24 > 18 else 0.0\n",
    "beta = np.array([0.5, 0.4, 0.4, 0.4, 0.4]) / 24\n",
    "tau = 1/(5.2 * 24)\n",
    "gamma = 1/(2.9 * 24)"
   ]
  },
  {
   "cell_type": "markdown",
   "id": "f9bdc04e",
   "metadata": {},
   "source": [
    "Initial conditions: \n",
    "\n",
    "$I_0(0) = 100/\\phi_0, I_j(1) = 0$"
   ]
  },
  {
   "cell_type": "code",
   "execution_count": 4,
   "id": "970f40fe",
   "metadata": {},
   "outputs": [],
   "source": [
    "y0 = np.zeros(4*K)\n",
    "y0[:K] = 1\n",
    "y0[K] = 100/1e6\n",
    "y0[0] = 1-y0[K]"
   ]
  },
  {
   "cell_type": "code",
   "execution_count": 8,
   "id": "e63327a9",
   "metadata": {},
   "outputs": [],
   "source": [
    "n_days = 500\n",
    "t_eval = np.linspace(0, 24 * n_days, 1000)\n",
    "\n",
    "sol = solve_ivp(fun=model_ode,\n",
    "                t_span=(0,24 * n_days),\n",
    "                y0=y0,\n",
    "                method='RK45',\n",
    "                t_eval=t_eval, \n",
    "                args = (alpha, beta, tau, gamma, population, p_matrix, population_eff, K)\n",
    "               )"
   ]
  },
  {
   "cell_type": "code",
   "execution_count": 9,
   "id": "760527b9",
   "metadata": {},
   "outputs": [
    {
     "data": {
      "image/png": "[encoded data removed]",
      "text/plain": [
       "<Figure size 432x288 with 1 Axes>"
      ]
     },
     "metadata": {
      "needs_background": "light"
     },
     "output_type": "display_data"
    }
   ],
   "source": [
    "plt.plot(sol.t, sol.y[0], label='S_0')\n",
    "plt.plot(sol.t, sol.y[2], label='S_2')\n",
    "plt.legend()\n",
    "plt.show()"
   ]
  },
  {
   "cell_type": "code",
   "execution_count": 10,
   "id": "50be4bd9",
   "metadata": {},
   "outputs": [
    {
     "data": {
      "image/png": "[encoded data removed]",
      "text/plain": [
       "<Figure size 432x288 with 1 Axes>"
      ]
     },
     "metadata": {
      "needs_background": "light"
     },
     "output_type": "display_data"
    }
   ],
   "source": [
    "plt.plot(sol.t, sol.y[2*K], label='I_0')\n",
    "plt.plot(sol.t, sol.y[2*K+2], label='I_2')\n",
    "plt.legend()\n",
    "plt.show()"
   ]
  },
  {
   "cell_type": "code",
   "execution_count": null,
   "id": "113d0d3b",
   "metadata": {},
   "outputs": [],
   "source": []
  }
 ],
 "metadata": {
  "kernelspec": {
   "display_name": "NetworkControl",
   "language": "python",
   "name": "networkcontrol"
  },
  "language_info": {
   "codemirror_mode": {
    "name": "ipython",
    "version": 3
   },
   "file_extension": ".py",
   "mimetype": "text/x-python",
   "name": "python",
   "nbconvert_exporter": "python",
   "pygments_lexer": "ipython3",
   "version": "3.10.5"
  }
 },
 "nbformat": 4,
 "nbformat_minor": 5
}
