{
 "cells": [
  {
   "cell_type": "markdown",
   "id": "48dafbc6",
   "metadata": {},
   "source": [
    "# Robot dance: a city-wise automatic control of Covid-19 mitigation levels\n",
    "\n",
    "Robot dance is an automatic control system that considers a complex network of cities with working mobility between them during the period of an epidemic. \n",
    "It proposes a control framework that suggests the level of protective measures, in order to avoid the collapse of the health system. \n",
    "The model is the following: let a graph with $K$ cities, each one with population $N_i$, and\n",
    "\n",
    "$$\n",
    "S_i + E_i + I_i + R_i = 1, i=1,\\dots,K.\n",
    "$$\n",
    "\n",
    "Let $\\alpha(t)$ be a binary coefficient function with $\\alpha(t) = 1$ in the time spent at the original node and $\\alpha(t) = 0$ during the day. \n",
    "Set $T_{\\mathrm{inc}}$ and $T_{\\mathrm{inf}}$ the incubation and the infection periods. \n",
    "During the night, the system works as a SEIR model, written as\n",
    "\n",
    "$$\n",
    "\\begin{split}\n",
    "\\frac{dS_i}{dt} &= -\\alpha(t)\\left(\\frac{r_i(t)}{T_{\\mathrm{inf}}}S_i I_i\\right) \\\\\n",
    "\\frac{dE_i}{dt} &= \\alpha(t)\\left(\\frac{r_i(t)}{T_{\\mathrm{inf}}}S_i I_i\\right) - \\frac{1}{T_{\\mathrm{inc}}}E_i \\\\\n",
    "\\frac{dI_i}{dt} &= \\frac{1}{T_{\\mathrm{inc}}}E_i - \\frac{1}{T_{\\mathrm{inf}}}I_i \\\\\n",
    "\\frac{dR_i}{dt} &= \\frac{1}{T_{\\mathrm{inf}}}I_i,\n",
    "\\end{split}\n",
    "$$\n",
    "\n",
    "But the cities have commuting, which changes the dynamic of infections.\n",
    "Let $p_{ij}$ represent the percentage of individuals of node $i$ that work at $j$.\n",
    "The orginal model consideres that $p_{ij}(t)$ is a function of the time which decreases linearly with $r_j(t)$. \n",
    "Here we treat it as a constant.\n",
    "During the day, the effective population at $i$ is $P_i^{\\mathrm{eff}} = \\sum_{j=1}^K p_{ji} N_j$."
   ]
  },
  {
   "cell_type": "markdown",
   "id": "384b6924",
   "metadata": {},
   "source": [
    "The number of working people from $i$ that get exposed to infectious individuals from $j$ is \n",
    "\n",
    "$$\n",
    "p_{ij} S_i(t) I_j^{\\mathrm{eff}}(t),\n",
    "$$\n",
    "\n",
    "where the effective infection ratio is \n",
    "\n",
    "$$\n",
    "I_j^{\\mathrm{eff}}(t) = \\frac{1}{P_j^{\\mathrm{eff}}} \\sum_{k=1}^K p_{kj} I_k N_k,\n",
    "$$\n",
    "\n",
    "that represents the number of incoming infected individuals from the other cities to $j$ normalized by the effective population there. "
   ]
  },
  {
   "cell_type": "markdown",
   "id": "cec331d5",
   "metadata": {},
   "source": [
    "The equations are, therefore, \n",
    "\n",
    "$$\n",
    "\\begin{split}\n",
    "\\frac{dS_i}{dt} &= -\\alpha(t)\\left(\\frac{r_i(t)}{T_{\\mathrm{inf}}}S_i I_i\\right) - (1-\\alpha(t)) \\left(\\frac{S_i}{T_{\\mathrm{inf}}} \\sum_{j=1}^K r_j(t) p_{ij} I_j^{\\mathrm{eff}}\\right) \\\\\n",
    "\\frac{dE_i}{dt} &= \\alpha(t)\\left(\\frac{r_i(t)}{T_{\\mathrm{inf}}}S_i I_i\\right) + (1-\\alpha(t)) \\left(\\frac{S_i}{T_{\\mathrm{inf}}} \\sum_{j=1}^K r_j(t) p_{ij} I_j^{\\mathrm{eff}}\\right) - \\frac{1}{T_{\\mathrm{inc}}}E_i \\\\\n",
    "\\frac{dI_i}{dt} &= \\frac{1}{T_{\\mathrm{inc}}}E_i - \\frac{1}{T_{\\mathrm{inf}}}I_i \\\\\n",
    "\\frac{dR_i}{dt} &= \\frac{1}{T_{\\mathrm{inf}}}I_i.\n",
    "\\end{split}\n",
    "$$\n",
    "\n",
    "We can say that $r_i(t) = \\beta_i(t)/\\gamma = \\beta_i(t) T_{\\mathrm{inf}}$.\n",
    "The variable $r_j(t)$ is the control variable that means the reproductive number at time $t$ at city $j$.\n",
    "They minimize a function changing this function. "
   ]
  },
  {
   "cell_type": "code",
   "execution_count": 1,
   "id": "4de7c11c",
   "metadata": {},
   "outputs": [],
   "source": [
    "import numpy as np\n",
    "from scipy.integrate import solve_ivp\n",
    "import matplotlib.pyplot as plt\n",
    "import sympy as sp\n",
    "from scipy.sparse.linalg import eigs"
   ]
  },
  {
   "cell_type": "markdown",
   "id": "d6621e8f",
   "metadata": {},
   "source": [
    "Model code"
   ]
  },
  {
   "cell_type": "code",
   "execution_count": 40,
   "id": "c179edf3",
   "metadata": {},
   "outputs": [],
   "source": [
    "def model_ode(t, y, alpha, beta, tau, gamma, population, p_matrix, population_eff, K):\n",
    "    S, E, I, R = y[:K], y[K:2*K], y[2*K:3*K], y[3*K:]\n",
    "    I_eff = (I * population) @ p_matrix / population_eff\n",
    "    S_dot = -alpha(t) * beta * S * I - (1-alpha(t)) * S * (p_matrix @ (beta * I_eff))\n",
    "    E_dot = -S_dot - tau * E\n",
    "    I_dot = tau * E - gamma * I\n",
    "    R_dot = gamma * I\n",
    "    return np.hstack([S_dot, E_dot, I_dot, R_dot])\n",
    "\n",
    "def hour_to_day(y, n_days):\n",
    "    v = np.zeros((y.shape[0], n_days))\n",
    "    values_per_day = int(y.shape[1]/n_days)\n",
    "    for i in range(n_days):\n",
    "        v[:,i] = np.mean(y[:,values_per_day*i:values_per_day*(i+1)], axis=1)\n",
    "    return v"
   ]
  },
  {
   "cell_type": "markdown",
   "id": "967c6efd",
   "metadata": {},
   "source": [
    "Here we consider a centralised city with its ramifications.\n",
    "The big city is the center of the network. \n",
    "We suppose that \n",
    "\n",
    "$p_{0j} = 0.01, j = 1, \\dots, K-1$, that is, one percent of the big city population goes to small city $j$.\n",
    "Moreover, we suppose that $p_{j0} = 0.4$, that is, $40\\%$ of the small cities go to the center."
   ]
  },
  {
   "cell_type": "code",
   "execution_count": 61,
   "id": "07c929df",
   "metadata": {},
   "outputs": [],
   "source": [
    "K = 5\n",
    "population = np.array([1e6, 1e4, 1e4, 1e4, 1e4])\n",
    "\n",
    "p_0j = 0.01\n",
    "p_j0 = 0.4\n",
    "\n",
    "\n",
    "p_matrix = np.array([\n",
    "    [1-4*p_0j, p_0j, p_0j, p_0j, p_0j],\n",
    "    [p_j0, 1-p_j0, 0, 0, 0],\n",
    "    [p_j0, 0, 1-p_j0, 0, 0],\n",
    "    [p_j0, 0, 0, 1-p_j0, 0],\n",
    "    [p_j0, 0, 0, 0, 1-p_j0]\n",
    "])\n",
    "population_eff = population @ p_matrix \n",
    "\n",
    "# working hours between 6 and 18 hours.\n",
    "alpha = lambda t: 1.0 if t % 24 < 6 or t % 24 > 18 else 0.0\n",
    "beta = np.array([0.5, 0.4, 0.4, 0.4, 0.4]) / 24\n",
    "tau = 1/(5.2 * 24)\n",
    "gamma = 1/(2.9 * 24)"
   ]
  },
  {
   "cell_type": "markdown",
   "id": "f9bdc04e",
   "metadata": {},
   "source": [
    "Initial conditions: \n",
    "\n",
    "$I_0(0) = 100/\\phi_0, I_j(0) = 0$"
   ]
  },
  {
   "cell_type": "code",
   "execution_count": 62,
   "id": "970f40fe",
   "metadata": {},
   "outputs": [],
   "source": [
    "y0 = np.zeros(4*K)\n",
    "y0[:K] = 1\n",
    "y0[K] = 100/1e6\n",
    "y0[0] = 1-y0[K]"
   ]
  },
  {
   "cell_type": "code",
   "execution_count": 63,
   "id": "e63327a9",
   "metadata": {},
   "outputs": [],
   "source": [
    "n_days = 300\n",
    "t_eval = np.linspace(0, 24 * n_days, 100 * n_days)\n",
    "\n",
    "sol = solve_ivp(fun=model_ode,\n",
    "                t_span=(0,24 * n_days),\n",
    "                y0=y0,\n",
    "                method='RK45',\n",
    "                t_eval=t_eval, \n",
    "                args = (alpha, beta, tau, gamma, population, p_matrix, population_eff, K)\n",
    "               )"
   ]
  },
  {
   "cell_type": "code",
   "execution_count": 64,
   "id": "760527b9",
   "metadata": {},
   "outputs": [
    {
     "data": {
      "image/png": "[encoded data removed]",
      "text/plain": [
       "<Figure size 432x288 with 1 Axes>"
      ]
     },
     "metadata": {
      "needs_background": "light"
     },
     "output_type": "display_data"
    }
   ],
   "source": [
    "plt.plot(sol.t, sol.y[0], label='S_0')\n",
    "plt.plot(sol.t, sol.y[1], label='S_1')\n",
    "plt.legend()\n",
    "plt.show()"
   ]
  },
  {
   "cell_type": "code",
   "execution_count": 65,
   "id": "50be4bd9",
   "metadata": {},
   "outputs": [
    {
     "data": {
      "image/png": "[encoded data removed]",
      "text/plain": [
       "<Figure size 432x288 with 1 Axes>"
      ]
     },
     "metadata": {
      "needs_background": "light"
     },
     "output_type": "display_data"
    }
   ],
   "source": [
    "plt.plot(sol.t, sol.y[2*K], label='I_0')\n",
    "plt.plot(sol.t, sol.y[2*K+2], label='I_1')\n",
    "plt.legend()\n",
    "plt.show()"
   ]
  },
  {
   "cell_type": "markdown",
   "id": "991dc137",
   "metadata": {},
   "source": [
    "Now, with different rates of commuting."
   ]
  },
  {
   "cell_type": "code",
   "execution_count": 82,
   "id": "b3eccfea",
   "metadata": {},
   "outputs": [],
   "source": [
    "K = 5\n",
    "population = np.array([1e6, 1e4, 1e4, 1e4, 1e4])\n",
    "\n",
    "p_0j = 0.4\n",
    "p_j0 = 0.01\n",
    "\n",
    "\n",
    "p_matrix = np.array([\n",
    "    [1-4*p_0j, p_0j, p_0j, p_0j, p_0j],\n",
    "    [p_j0, 1-p_j0, 0, 0, 0],\n",
    "    [p_j0, 0, 1-p_j0, 0, 0],\n",
    "    [p_j0, 0, 0, 1-p_j0, 0],\n",
    "    [p_j0, 0, 0, 0, 1-p_j0]\n",
    "])\n",
    "population_eff = population @ p_matrix \n",
    "\n",
    "# working hours between 6 and 18 hours.\n",
    "alpha = lambda t: 1.0 if t % 24 < 6 or t % 24 > 18 else 0.0\n",
    "beta = np.array([0.5, 0.4, 0.4, 0.4, 0.4]) / 24\n",
    "tau = 1/(5.2 * 24)\n",
    "gamma = 1/(2.9 * 24)"
   ]
  },
  {
   "cell_type": "code",
   "execution_count": 83,
   "id": "2e24efe8",
   "metadata": {},
   "outputs": [],
   "source": [
    "n_days = 300\n",
    "t_eval = np.linspace(0, 24 * n_days, 100 * n_days)\n",
    "\n",
    "sol = solve_ivp(fun=model_ode,\n",
    "                t_span=(0,24 * n_days),\n",
    "                y0=y0,\n",
    "                method='RK45',\n",
    "                t_eval=t_eval, \n",
    "                args = (alpha, beta, tau, gamma, population, p_matrix, population_eff, K)\n",
    "               )"
   ]
  },
  {
   "cell_type": "code",
   "execution_count": 84,
   "id": "6636e0a2",
   "metadata": {},
   "outputs": [
    {
     "data": {
      "image/png": "[encoded data removed]",
      "text/plain": [
       "<Figure size 432x288 with 1 Axes>"
      ]
     },
     "metadata": {
      "needs_background": "light"
     },
     "output_type": "display_data"
    }
   ],
   "source": [
    "plt.plot(sol.t, sol.y[2*K], label='I_0')\n",
    "plt.plot(sol.t, sol.y[2*K+2], label='I_1')\n",
    "plt.legend()\n",
    "plt.show()"
   ]
  },
  {
   "cell_type": "code",
   "execution_count": null,
   "id": "e583d145",
   "metadata": {},
   "outputs": [],
   "source": []
  }
 ],
 "metadata": {
  "kernelspec": {
   "display_name": "NetworkControl",
   "language": "python",
   "name": "networkcontrol"
  },
  "language_info": {
   "codemirror_mode": {
    "name": "ipython",
    "version": 3
   },
   "file_extension": ".py",
   "mimetype": "text/x-python",
   "name": "python",
   "nbconvert_exporter": "python",
   "pygments_lexer": "ipython3",
   "version": "3.10.5"
  }
 },
 "nbformat": 4,
 "nbformat_minor": 5
}
