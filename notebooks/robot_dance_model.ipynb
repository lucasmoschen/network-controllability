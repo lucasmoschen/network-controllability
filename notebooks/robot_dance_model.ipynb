{
 "cells": [
  {
   "cell_type": "markdown",
   "id": "48dafbc6",
   "metadata": {},
   "source": [
    "# Robot dance: a city-wise automatic control of Covid-19 mitigation levels\n",
    "\n",
    "This is an automatic control system that considers working mobility between different cities and a control framework that suggests the level of protective measures, in order to avoid the collapse of the health system. \n",
    "The model is the dollowing: let a graph with $K$ cities\n",
    "\n",
    "$$\n",
    "\\hat{S}_i + \\hat{E}_i + \\hat{I}_i + \\hat{R}_i = N_i, i=1,\\dots,K.\n",
    "$$\n",
    "\n",
    "Let $S_{ij}$ be the number of susceptible individuals in the population that leave city $i$ to work at city $j$.\n",
    "\n",
    "The effective population in city $i$, **during the day** is \n",
    "\n",
    "$$\n",
    "N_i^{\\mathrm{eff}} = \\hat{S}_{ii} + \\hat{E}_{ii} + \\hat{I}_{ii} + \\hat{R}_{ii} + U_i^{in},\n",
    "$$\n",
    "\n",
    "such that $U_i^{in}$ is the number of individuals that travels from The other cities. \n",
    "Therefore, \n",
    "\n",
    "$$\n",
    "U_i^{in} = \\sum_{j=1}^n \\hat{S}_{ji} + \\hat{E}_{ji} + \\hat{I}_{ji} + \\hat{R}_{ji}.\n",
    "$$\n",
    "\n",
    "It is assumed that individuals of city $i$ that work at $j$ can only be infected there, during the day.\n",
    "Thus\n",
    "\n",
    "$$\n",
    "\\frac{d}{dt}\\hat{S}_{ii} = -\\frac{r_i}{N_i^{\\mathrm{eff}}}\\frac{1}{T_{\\mathrm{inf}}}\\hat{S}_{ii}\\hat{I}_{ii} - \\kappa\\frac{r_i}{N_i^{\\mathrm{eff}}}\\frac{1}{T_{\\mathrm{inf}}}\\sum_{j=1}^K \\hat{S}_{ii}\\hat{I}_{ji},\n",
    "$$\n",
    "where $\\kappa$ is the rate of infected individuals. \n",
    "Considering $\\kappa = 0$,\n",
    "\n",
    "$$\n",
    "\\frac{d}{dt}\\hat{S}_{ij} = -\\frac{r_j}{N_j^{\\mathrm{eff}}}\\frac{1}{T_{\\mathrm{inf}}}\\hat{S}_{ij}\\hat{I}_{jj} \n",
    "$$"
   ]
  },
  {
   "cell_type": "markdown",
   "id": "384b6924",
   "metadata": {},
   "source": [
    "It is considered the normalized version\n",
    "$$\n",
    "X_i = \\frac{\\hat{X}_i}{N_i}, X \\in \\{S, E, I,  R\\}\n",
    "$$\n",
    "and\n",
    "$$\n",
    "\\dot{S}_i = -\\frac{1}{T_{\\mathrm{inf}}} \\sum_{j=1}^n \\frac{r_j}{P_j^{\\mathrm{eff}}} S_{ij} I_{jj},\n",
    "$$\n",
    "where\n",
    "$$\n",
    "P_j^{\\mathrm{eff}} = \\sum_{i=1}^K \\frac{N_i}{N_j}(S_{ij} + E_{ij} + I_{ij} + R_{ij})\n",
    "$$\n",
    "The fraction $S_{ij}$ can be estimated through $S_{ij} = S_i p_{ij}$, where $p_{ij}$ is the daily accumulated percentage of inhabitants of $i$ that travels to $j$.\n",
    "\n",
    "During the night, the works go home and the model reduces to the standard SEIR."
   ]
  },
  {
   "cell_type": "markdown",
   "id": "cec331d5",
   "metadata": {},
   "source": [
    "The equations are, therefore, \n",
    "\n",
    "$$\n",
    "\\begin{split}\n",
    "\\frac{dS_i}{dt} &= -\\alpha(t)\\left(\\frac{S_i}{T_{\\mathrm{inf}}}\\sum_{j=1}^K \\frac{r_j(t)}{P_j^{\\mathrm{eff}}} p_{ij} I_{jj}\\right) - (1-\\alpha(t))\\left(\\frac{r_i(t)}{T_{\\mathrm{inf}}}S_i I_i\\right) \\\\\n",
    "\\frac{dE_i}{dt} &= \\alpha(t)\\left(\\frac{S_i}{T_{\\mathrm{inf}}}\\sum_{j=1}^K \\frac{r_j(t)}{P_j^{\\mathrm{eff}}} p_{ij} I_{jj}\\right) + (1-\\alpha(t))\\left(\\frac{r_i(t)}{T_{\\mathrm{inf}}}S_i I_i\\right) - \\frac{1}{T_{\\mathrm{inc}}}E_i \\\\\n",
    "\\frac{dI_i}{dt} &= \\frac{1}{T_{\\mathrm{inc}}}E_i - \\frac{1}{T_{\\mathrm{inf}}}I_i \\\\\n",
    "\\frac{dR_i}{dt} &= \\frac{1}{T_{\\mathrm{inf}}}I_i,\n",
    "\\end{split}\n",
    "$$\n",
    "\n",
    "where $T_{\\mathrm{inc}}$ is the incubation period and $T_{\\mathrm{inf}}$ is the recovery time.\n",
    "We can say that $r_i(t) = \\beta_i(t)/\\gamma = \\beta_i(t) T_{\\mathrm{inf}}$.\n",
    "\n",
    "\n",
    "The variable $r_j(t)$ is the control variable that means the reproductive number at time $t$ at city $j$.\n",
    "They minimize a function changing this function. \n",
    "Moreover, the variable $\\alpha(t) = 1$ during the working hours and zero otherwise."
   ]
  },
  {
   "cell_type": "code",
   "execution_count": 1,
   "id": "4de7c11c",
   "metadata": {},
   "outputs": [],
   "source": [
    "import numpy as np\n",
    "from scipy.integrate import solve_ivp\n",
    "import matplotlib.pyplot as plt\n",
    "import sympy as sp\n",
    "from scipy.sparse.linalg import eigs"
   ]
  },
  {
   "cell_type": "markdown",
   "id": "d6621e8f",
   "metadata": {},
   "source": [
    "Model code"
   ]
  },
  {
   "cell_type": "code",
   "execution_count": null,
   "id": "c179edf3",
   "metadata": {},
   "outputs": [],
   "source": [
    "def model_ode(t, y, beta, gamma, eta, A, u, N_cities): \n",
    "    s_dot, x_dot, r_dot = np.zeros(N_cities), np.zeros(N_cities), np.zeros(N_cities)\n",
    "    s, x, r = y[:N_cities], y[N_cities:2*N_cities], y[2*N_cities:]\n",
    "    for i in range(N_cities):\n",
    "        s_dot[i] = -beta[i] * s[i] * x[i] - eta[i] * s[i] + (A[i,:]*eta*s).sum() - u(t)[i] * s[i]\n",
    "        x_dot[i] = beta[i] * s[i] * x[i] - eta[i] * x[i] + (A[i,:]*eta*x).sum() - gamma * x[i]\n",
    "        r_dot[i] = gamma * x[i] + u(t)[i] * s[i] - eta[i] * r[i] + (A[i,:]*eta*r).sum()\n",
    "    return np.hstack([s_dot, x_dot, r_dot])"
   ]
  }
 ],
 "metadata": {
  "kernelspec": {
   "display_name": "NetworkControl",
   "language": "python",
   "name": "networkcontrol"
  },
  "language_info": {
   "codemirror_mode": {
    "name": "ipython",
    "version": 3
   },
   "file_extension": ".py",
   "mimetype": "text/x-python",
   "name": "python",
   "nbconvert_exporter": "python",
   "pygments_lexer": "ipython3",
   "version": "3.10.5"
  }
 },
 "nbformat": 4,
 "nbformat_minor": 5
}
